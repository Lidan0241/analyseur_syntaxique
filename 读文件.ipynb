{
 "cells": [
  {
   "cell_type": "code",
   "execution_count": 3,
   "metadata": {},
   "outputs": [
    {
     "name": "stdout",
     "output_type": "stream",
     "text": [
      "指令:\n",
      "G 1 G 1 G 0 G 1 G 1\n",
      "boucle\n",
      "0\n",
      "G 1 G 1\n",
      "boucle D D si (1) fin } }\n",
      "0\n",
      "D 1 D 1\n",
      "boucle G G si (1) fin } }\n",
      "I P\n",
      "}\n",
      "\n",
      "磁带状态:\n",
      "tourne indéfiniment et remplit le ruban de la suite 01010101010 (exercice proposé par Turing)\n",
      "0000000000000000000                                                    X\n",
      "0000011011000000000                                                    X\n",
      "00000110101011000000000                                                    X\n",
      "00011010101011000000000                                                    X\n",
      "00011010101011000000000                                                    X\n",
      "0000011010110000000                                                    X\n",
      "0000011010110000000                                                    X\n"
     ]
    }
   ],
   "source": [
    "def read_turing_file(filename):\n",
    "    # 尝试不同的编码\n",
    "    encodings = ['utf-8', 'latin-1', 'cp1252', 'iso-8859-1']\n",
    "    \n",
    "    for encoding in encodings:\n",
    "        try:\n",
    "            with open(filename, 'r', encoding=encoding) as file:\n",
    "                lines = file.readlines()\n",
    "            break\n",
    "        except UnicodeDecodeError:\n",
    "            if encoding == encodings[-1]:  # 如果是最后一个编码还失败\n",
    "                raise\n",
    "            continue\n",
    "    \n",
    "    instructions = []\n",
    "    tape_states = []\n",
    "    \n",
    "    for line in lines:\n",
    "        line = line.strip()\n",
    "        \n",
    "        if not line:\n",
    "            continue\n",
    "            \n",
    "        if line.startswith('%'):\n",
    "            if '0' in line or '1' in line:\n",
    "                tape_state = line.strip('%').strip()\n",
    "                tape_states.append(tape_state)\n",
    "            continue\n",
    "            \n",
    "        if not line.startswith('#'):\n",
    "            instructions.append(line)\n",
    "    \n",
    "    return {\n",
    "        'instructions': instructions,\n",
    "        'tape_states': tape_states\n",
    "    }\n",
    "\n",
    "# 使用示例\n",
    "filename = \"01.1.TS\"\n",
    "result = read_turing_file(filename)\n",
    "\n",
    "# 打印结果\n",
    "print(\"指令:\")\n",
    "for inst in result['instructions']:\n",
    "    print(inst)\n",
    "\n",
    "print(\"\\n磁带状态:\")\n",
    "for state in result['tape_states']:\n",
    "    print(state)"
   ]
  },
  {
   "cell_type": "code",
   "execution_count": null,
   "metadata": {},
   "outputs": [],
   "source": []
  }
 ],
 "metadata": {
  "kernelspec": {
   "display_name": "ppe2",
   "language": "python",
   "name": "python3"
  },
  "language_info": {
   "codemirror_mode": {
    "name": "ipython",
    "version": 3
   },
   "file_extension": ".py",
   "mimetype": "text/x-python",
   "name": "python",
   "nbconvert_exporter": "python",
   "pygments_lexer": "ipython3",
   "version": "3.11.8"
  }
 },
 "nbformat": 4,
 "nbformat_minor": 2
}
